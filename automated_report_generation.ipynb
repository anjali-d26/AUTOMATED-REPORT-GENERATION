{
  "cells": [
    {
      "cell_type": "code",
      "source": [
        "import pandas as pd\n",
        "import matplotlib.pyplot as plt\n",
        "from fpdf import FPDF\n",
        "import os\n",
        "# Load the data\n",
        "file_path = \"sales_data_sample.csv\"\n",
        "df = pd.read_csv(file_path, encoding='latin1')\n",
        "# Prepare analysis\n",
        "df['SALES'] = df['QUANTITYORDERED'] * df['PRICEEACH']\n",
        "total_sales = df['SALES'].sum()\n",
        "num_orders = df['ORDERNUMBER'].nunique()\n",
        "top_products = df.groupby('PRODUCTLINE')['SALES'].sum().sort_values(ascending=False).head(5)\n",
        "top_customers = df.groupby('CUSTOMERNAME')['SALES'].sum().sort_values(ascending=False).head(5)\n",
        "sales_by_country = df.groupby('COUNTRY')['SALES'].sum().sort_values(ascending=False).head(5)\n",
        "# Charts folder\n",
        "if not os.path.exists(\"charts\"):\n",
        "    os.mkdir(\"charts\")\n",
        "# Chart: Top 5 Products\n",
        "plt.figure(figsize=(6,4))\n",
        "top_products.plot(kind='bar', color='skyblue')\n",
        "plt.title(\"Top 5 Product Lines by Sales\")\n",
        "plt.ylabel(\"Sales\")\n",
        "plt.tight_layout()\n",
        "plt.savefig(\"charts/top_products.png\")\n",
        "plt.close()\n",
        "# Chart: Sales by Country (Pie Chart)\n",
        "plt.figure(figsize=(6,4))\n",
        "sales_by_country.plot(kind='pie', autopct='%1.1f%%')\n",
        "plt.title(\"Sales by Country (Top 5)\")\n",
        "plt.ylabel(\"\")\n",
        "plt.tight_layout()\n",
        "plt.savefig(\"charts/sales_by_country.png\")\n",
        "plt.close()\n",
        "# Create PDF with FPDF\n",
        "pdf = FPDF()\n",
        "pdf.set_auto_page_break(auto=True, margin=15)\n",
        "pdf.add_page()\n",
        "# Title\n",
        "pdf.set_font(\"Arial\", 'B', 16)\n",
        "pdf.cell(200, 10, \"Automated Sales Report\", ln=True, align='C')\n",
        "pdf.ln(10)\n",
        "# Summary Section\n",
        "pdf.set_font(\"Arial\", size=12)\n",
        "pdf.cell(200, 10, f\"Total Sales: ${total_sales:,.2f}\", ln=True)\n",
        "pdf.cell(200, 10, f\"Number of Orders: {num_orders}\", ln=True)\n",
        "pdf.ln(10)\n",
        "# Top Products\n",
        "pdf.set_font(\"Arial\", 'B', 12)\n",
        "pdf.cell(200, 10, \"Top 5 Product Lines by Revenue\", ln=True)\n",
        "pdf.set_font(\"Arial\", size=12)\n",
        "for k, v in top_products.items():\n",
        "    pdf.cell(200, 10, f\"{k}: ${v:,.2f}\", ln=True)\n",
        "pdf.ln(10)\n",
        "# Top Customers\n",
        "pdf.set_font(\"Arial\", 'B', 12)\n",
        "pdf.cell(200, 10, \"Top 5 Customers by Revenue\", ln=True)\n",
        "pdf.set_font(\"Arial\", size=12)\n",
        "for k, v in top_customers.items():\n",
        "    pdf.cell(200, 10, f\"{k}: ${v:,.2f}\", ln=True)\n",
        "pdf.ln(10)\n",
        "# Charts\n",
        "pdf.set_font(\"Arial\", 'B', 12)\n",
        "pdf.cell(200, 10, \"Chart: Top Products\", ln=True)\n",
        "pdf.image(\"charts/top_products.png\", w=180)\n",
        "pdf.ln(10)\n",
        "pdf.set_font(\"Arial\", 'B', 12)\n",
        "pdf.cell(200, 10, \"Chart: Sales by Country\", ln=True)\n",
        "pdf.image(\"charts/sales_by_country.png\", w=180)\n",
        "# Save the PDF\n",
        "pdf.output(\"Sales_Report.pdf\")\n",
        "print(\"✅ Report generated: Sales_Report.pdf\")\n",
        "from google.colab import files\n",
        "files.download(\"Sales_Report.pdf\")\n"
      ],
      "metadata": {
        "id": "Jy4vGzdxemzi",
        "outputId": "d274572f-1d33-49b8-a384-7dc6eab47175",
        "colab": {
          "base_uri": "https://localhost:8080/"
        }
      },
      "id": "Jy4vGzdxemzi",
      "execution_count": null,
      "outputs": [
        {
          "output_type": "stream",
          "name": "stdout",
          "text": [
            "✅ Report generated: Sales_Report.pdf\n"
          ]
        }
      ]
    }
  ],
  "metadata": {
    "kernelspec": {
      "display_name": "Python 3 (ipykernel)",
      "language": "python",
      "name": "python3"
    },
    "language_info": {
      "codemirror_mode": {
        "name": "ipython",
        "version": 3
      },
      "file_extension": ".py",
      "mimetype": "text/x-python",
      "name": "python",
      "nbconvert_exporter": "python",
      "pygments_lexer": "ipython3",
      "version": "3.11.5"
    },
    "colab": {
      "provenance": []
    }
  },
  "nbformat": 4,
  "nbformat_minor": 5
}